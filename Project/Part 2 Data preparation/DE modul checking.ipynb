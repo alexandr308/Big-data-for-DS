{
 "cells": [
  {
   "cell_type": "code",
   "execution_count": 1,
   "id": "acceptable-marine",
   "metadata": {},
   "outputs": [],
   "source": [
    "import io\n",
    "import sys\n",
    "from pyspark.sql import SparkSession\n",
    "from pyspark.sql.functions import col, datediff\n",
    "from pyspark.sql import functions as F"
   ]
  },
  {
   "cell_type": "code",
   "execution_count": 2,
   "id": "complicated-monkey",
   "metadata": {},
   "outputs": [],
   "source": [
    "TRAIN_TEST_SPLIT = [0.75, 0.25]"
   ]
  },
  {
   "cell_type": "code",
   "execution_count": 3,
   "id": "sudden-hanging",
   "metadata": {},
   "outputs": [],
   "source": [
    "spark = SparkSession.builder.appName('PySparkTasks').getOrCreate()"
   ]
  },
  {
   "cell_type": "code",
   "execution_count": 4,
   "id": "according-perspective",
   "metadata": {},
   "outputs": [],
   "source": [
    "# сначала загружаем данные\n",
    "df = spark.read.parquet('clickstream.parquet')"
   ]
  },
  {
   "cell_type": "code",
   "execution_count": 5,
   "id": "affiliated-myanmar",
   "metadata": {},
   "outputs": [
    {
     "name": "stdout",
     "output_type": "stream",
     "text": [
      "+----------+-------------------+-----+--------+------+---------------+-----------------+------------+-------+---------+---------------------+\n",
      "|      date|               time|event|platform| ad_id|client_union_id|compaign_union_id|ad_cost_type|ad_cost|has_video|target_audience_count|\n",
      "+----------+-------------------+-----+--------+------+---------------+-----------------+------------+-------+---------+---------------------+\n",
      "|2019-04-01|2019-03-31 21:00:48| view| android| 45061|          34734|            45061|         CPM|  200.6|        0|              1955269|\n",
      "|2019-04-01|2019-03-31 21:00:48| view|     web|121288|         121288|           121288|         CPM|  187.4|        0|               232011|\n",
      "|2019-04-01|2019-03-31 21:01:03| view| android|102737|         102535|           102564|         CPC|   60.7|        0|                 4410|\n",
      "|2019-04-01|2019-03-31 21:01:03| view| android|107564|         106914|           107564|         CPM|  217.3|        0|                62711|\n",
      "|2019-04-01|2019-03-31 21:01:09| view| android|  4922|             37|             4400|         CPC|   60.1|        0|              1183501|\n",
      "+----------+-------------------+-----+--------+------+---------------+-----------------+------------+-------+---------+---------------------+\n",
      "only showing top 5 rows\n",
      "\n"
     ]
    }
   ],
   "source": [
    "df.show(5)"
   ]
  },
  {
   "cell_type": "code",
   "execution_count": 6,
   "id": "equivalent-accordance",
   "metadata": {},
   "outputs": [],
   "source": [
    "# создаем новые признаки\n",
    "ndf = df.withColumn('is_cpm', F.when(df.ad_cost_type == 'CPM', 1).otherwise(0))\\\n",
    "       .withColumn('is_cpc', F.when(df.ad_cost_type == 'CPC', 1).otherwise(0))\\\n",
    "       .withColumn('view', F.when(df.event == 'view', 1).otherwise(0))\\\n",
    "       .withColumn('click', F.when(df.event == 'click', 1).otherwise(0))"
   ]
  },
  {
   "cell_type": "code",
   "execution_count": 7,
   "id": "beautiful-forty",
   "metadata": {},
   "outputs": [
    {
     "name": "stdout",
     "output_type": "stream",
     "text": [
      "+----------+-------------------+-----+--------+------+---------------+-----------------+------------+-------+---------+---------------------+------+------+----+-----+\n",
      "|      date|               time|event|platform| ad_id|client_union_id|compaign_union_id|ad_cost_type|ad_cost|has_video|target_audience_count|is_cpm|is_cpc|view|click|\n",
      "+----------+-------------------+-----+--------+------+---------------+-----------------+------------+-------+---------+---------------------+------+------+----+-----+\n",
      "|2019-04-01|2019-03-31 21:00:48| view| android| 45061|          34734|            45061|         CPM|  200.6|        0|              1955269|     1|     0|   1|    0|\n",
      "|2019-04-01|2019-03-31 21:00:48| view|     web|121288|         121288|           121288|         CPM|  187.4|        0|               232011|     1|     0|   1|    0|\n",
      "|2019-04-01|2019-03-31 21:01:03| view| android|102737|         102535|           102564|         CPC|   60.7|        0|                 4410|     0|     1|   1|    0|\n",
      "|2019-04-01|2019-03-31 21:01:03| view| android|107564|         106914|           107564|         CPM|  217.3|        0|                62711|     1|     0|   1|    0|\n",
      "|2019-04-01|2019-03-31 21:01:09| view| android|  4922|             37|             4400|         CPC|   60.1|        0|              1183501|     0|     1|   1|    0|\n",
      "+----------+-------------------+-----+--------+------+---------------+-----------------+------------+-------+---------+---------------------+------+------+----+-----+\n",
      "only showing top 5 rows\n",
      "\n"
     ]
    }
   ],
   "source": [
    "ndf.show(5)"
   ]
  },
  {
   "cell_type": "code",
   "execution_count": 8,
   "id": "infinite-rhythm",
   "metadata": {},
   "outputs": [],
   "source": [
    "ndf_grouped = ndf.groupBy('ad_id')\\\n",
    "                 .agg(\n",
    "                        F.max(ndf.target_audience_count),\n",
    "                        F.max(ndf.has_video),\n",
    "                        F.max(ndf.is_cpm),\n",
    "                        F.max(ndf.is_cpc),\n",
    "                        F.sum(ndf.ad_cost),\n",
    "                        F.countDistinct(ndf.date),\n",
    "                        F.sum(ndf.view),\n",
    "                        F.sum(ndf.click)\n",
    "                      )\\\n",
    "            .withColumnRenamed('max(target_audience_count)', 'target_audience_count')\\\n",
    "            .withColumnRenamed('max(has_video)', 'has_video')\\\n",
    "            .withColumnRenamed('max(is_cpm)', 'is_cpm')\\\n",
    "            .withColumnRenamed('max(is_cpc)', 'is_cpc')\\\n",
    "            .withColumnRenamed('sum(ad_cost)', 'ad_cost')\\\n",
    "            .withColumnRenamed('count(date)', 'day_count')\\\n",
    "            .withColumnRenamed('sum(view)', 'views')\\\n",
    "            .withColumnRenamed('sum(click)', 'clicks')\\\n",
    "            .withColumn('CTR', F.coalesce(col('clicks') / col('views'), col('views')))\\\n",
    "            .drop('clicks', 'views')"
   ]
  },
  {
   "cell_type": "code",
   "execution_count": 9,
   "id": "diverse-lighting",
   "metadata": {},
   "outputs": [
    {
     "name": "stdout",
     "output_type": "stream",
     "text": [
      "+------+---------------------+---------+------+------+------------------+---------+-------------------+\n",
      "| ad_id|target_audience_count|has_video|is_cpm|is_cpc|           ad_cost|day_count|                CTR|\n",
      "+------+---------------------+---------+------+------+------------------+---------+-------------------+\n",
      "|114166|                 7350|        0|     0|     1|            1326.0|        2|                0.0|\n",
      "| 18759|               625481|        0|     0|     1|4541.0000000000055|        2|                0.0|\n",
      "| 47178|                52401|        0|     0|     1|11335.300000000037|        2|0.03137254901960784|\n",
      "| 19912|                18860|        0|     0|     1|1316.5999999999995|        2|               0.16|\n",
      "|117364|              7816835|        0|     0|     1|             355.6|        2|                0.0|\n",
      "+------+---------------------+---------+------+------+------------------+---------+-------------------+\n",
      "only showing top 5 rows\n",
      "\n"
     ]
    }
   ],
   "source": [
    "ndf_grouped.where(col('max(is_cpc)') == 1).show(5)"
   ]
  },
  {
   "cell_type": "code",
   "execution_count": 10,
   "id": "perceived-adobe",
   "metadata": {},
   "outputs": [
    {
     "data": {
      "text/plain": [
       "965"
      ]
     },
     "execution_count": 10,
     "metadata": {},
     "output_type": "execute_result"
    }
   ],
   "source": [
    "ndf_grouped.count()"
   ]
  },
  {
   "cell_type": "code",
   "execution_count": 11,
   "id": "pointed-footage",
   "metadata": {},
   "outputs": [],
   "source": [
    "# разбиваем на трейн и тест\n",
    "train, test = ndf_grouped.randomSplit(TRAIN_TEST_SPLIT, seed=42)"
   ]
  },
  {
   "cell_type": "code",
   "execution_count": 12,
   "id": "periodic-stomach",
   "metadata": {},
   "outputs": [
    {
     "name": "stdout",
     "output_type": "stream",
     "text": [
      "+-----+---------------------+---------+------+------+-----------------+---------+--------------------+\n",
      "|ad_id|target_audience_count|has_video|is_cpm|is_cpc|          ad_cost|day_count|                 CTR|\n",
      "+-----+---------------------+---------+------+------+-----------------+---------+--------------------+\n",
      "|33412|                 7195|        0|     1|     0|7493.500000000003|        2|                 0.0|\n",
      "|33602|              3277386|        0|     1|     0|91834.20000000055|        2|             0.01875|\n",
      "|47217|                 7121|        0|     1|     0|5188.799999999999|        2|0.045454545454545456|\n",
      "|43921|                 7807|        0|     1|     0|4327.399999999999|        1|                 0.0|\n",
      "+-----+---------------------+---------+------+------+-----------------+---------+--------------------+\n",
      "only showing top 4 rows\n",
      "\n"
     ]
    }
   ],
   "source": [
    "train.show(4)"
   ]
  },
  {
   "cell_type": "code",
   "execution_count": 13,
   "id": "posted-manual",
   "metadata": {},
   "outputs": [
    {
     "name": "stdout",
     "output_type": "stream",
     "text": [
      "+------+---------------------+---------+------+------+------------------+---------+--------------------+\n",
      "| ad_id|target_audience_count|has_video|is_cpm|is_cpc|           ad_cost|day_count|                 CTR|\n",
      "+------+---------------------+---------+------+------+------------------+---------+--------------------+\n",
      "| 40515|                11533|        0|     1|     0|30931.199999999943|        2| 0.02857142857142857|\n",
      "| 20596|              1106999|        0|     1|     0|135707.99999999907|        2|  0.0062402496099844|\n",
      "|119169|                35019|        0|     1|     0|129866.60000000098|        2|0.007861635220125786|\n",
      "| 15162|             32214433|        0|     1|     0|           16605.0|        2|                 0.0|\n",
      "+------+---------------------+---------+------+------+------------------+---------+--------------------+\n",
      "only showing top 4 rows\n",
      "\n"
     ]
    }
   ],
   "source": [
    "test.show(4)"
   ]
  },
  {
   "cell_type": "code",
   "execution_count": 14,
   "id": "pacific-meaning",
   "metadata": {},
   "outputs": [],
   "source": [
    "target_path = 'result'"
   ]
  },
  {
   "cell_type": "code",
   "execution_count": 15,
   "id": "dried-sharp",
   "metadata": {},
   "outputs": [],
   "source": [
    "train.coalesce(1).write.parquet(f'{target_path}/train')"
   ]
  },
  {
   "cell_type": "code",
   "execution_count": 16,
   "id": "lesbian-bidder",
   "metadata": {},
   "outputs": [],
   "source": [
    "test.coalesce(1).write.parquet(f'{target_path}/test')"
   ]
  },
  {
   "cell_type": "code",
   "execution_count": null,
   "id": "dominant-function",
   "metadata": {},
   "outputs": [],
   "source": []
  },
  {
   "cell_type": "code",
   "execution_count": null,
   "id": "surprised-booth",
   "metadata": {},
   "outputs": [],
   "source": []
  }
 ],
 "metadata": {
  "kernelspec": {
   "display_name": "Python 3",
   "language": "python",
   "name": "python3"
  },
  "language_info": {
   "codemirror_mode": {
    "name": "ipython",
    "version": 3
   },
   "file_extension": ".py",
   "mimetype": "text/x-python",
   "name": "python",
   "nbconvert_exporter": "python",
   "pygments_lexer": "ipython3",
   "version": "3.8.8"
  }
 },
 "nbformat": 4,
 "nbformat_minor": 5
}
