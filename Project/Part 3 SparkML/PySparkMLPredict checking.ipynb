{
 "cells": [
  {
   "cell_type": "code",
   "execution_count": 1,
   "id": "indoor-tract",
   "metadata": {},
   "outputs": [],
   "source": [
    "import io\n",
    "import sys\n",
    "\n",
    "from pyspark.ml import Pipeline, PipelineModel\n",
    "from pyspark.sql import SparkSession\n",
    "\n",
    "import numpy as np"
   ]
  },
  {
   "cell_type": "code",
   "execution_count": 2,
   "id": "genuine-booth",
   "metadata": {},
   "outputs": [],
   "source": [
    "# Используем как путь откуда загрузить модель\n",
    "MODEL_PATH = 'spark_ml_model'\n",
    "#input_file - путь к файлу с данными для которых нужно предсказать ctr\n",
    "input_file = 'test.parquet'\n",
    "#output_file - путь по которому нужно сохранить файл с результатами [ads_id, prediction]\n",
    "output_file = 'result'"
   ]
  },
  {
   "cell_type": "code",
   "execution_count": 3,
   "id": "comfortable-cotton",
   "metadata": {},
   "outputs": [],
   "source": [
    "spark = SparkSession.builder.appName('PySparkMLPredict').getOrCreate()"
   ]
  },
  {
   "cell_type": "code",
   "execution_count": 4,
   "id": "nearby-cable",
   "metadata": {},
   "outputs": [
    {
     "data": {
      "text/html": [
       "\n",
       "            <div>\n",
       "                <p><b>SparkSession - in-memory</b></p>\n",
       "                \n",
       "        <div>\n",
       "            <p><b>SparkContext</b></p>\n",
       "\n",
       "            <p><a href=\"http://71de31896427:4040\">Spark UI</a></p>\n",
       "\n",
       "            <dl>\n",
       "              <dt>Version</dt>\n",
       "                <dd><code>v3.1.1</code></dd>\n",
       "              <dt>Master</dt>\n",
       "                <dd><code>local[*]</code></dd>\n",
       "              <dt>AppName</dt>\n",
       "                <dd><code>PySparkMLPredict</code></dd>\n",
       "            </dl>\n",
       "        </div>\n",
       "        \n",
       "            </div>\n",
       "        "
      ],
      "text/plain": [
       "<pyspark.sql.session.SparkSession at 0x7fd783917cd0>"
      ]
     },
     "execution_count": 4,
     "metadata": {},
     "output_type": "execute_result"
    }
   ],
   "source": [
    "spark"
   ]
  },
  {
   "cell_type": "markdown",
   "id": "celtic-softball",
   "metadata": {},
   "source": [
    "### check the dataset"
   ]
  },
  {
   "cell_type": "code",
   "execution_count": 5,
   "id": "charming-italian",
   "metadata": {},
   "outputs": [],
   "source": [
    "test = spark.read.parquet(input_file)"
   ]
  },
  {
   "cell_type": "code",
   "execution_count": 6,
   "id": "about-symposium",
   "metadata": {},
   "outputs": [
    {
     "name": "stdout",
     "output_type": "stream",
     "text": [
      "+-----+---------------------+---------+------+------+----------------+---------+-----------------+\n",
      "|ad_id|target_audience_count|has_video|is_cpm|is_cpc|         ad_cost|day_count|              ctr|\n",
      "+-----+---------------------+---------+------+------+----------------+---------+-----------------+\n",
      "|    2|     11012.2068140534|        1|     1|     0|196.691891825393|       17| 0.50005065193925|\n",
      "|    3|     9923.69112524699|        1|     1|     0|202.617038691842|       15|0.637132195277704|\n",
      "|    4|     10202.3140990505|        1|     1|     0|203.496891469936|       15|0.783706394973096|\n",
      "|   10|     10239.9431887051|        1|     1|     0|195.804239443196|       15| 1.01044552869544|\n",
      "|   13|     8373.52511906263|        1|     1|     0|202.221614839989|       13| 1.05570252090352|\n",
      "+-----+---------------------+---------+------+------+----------------+---------+-----------------+\n",
      "only showing top 5 rows\n",
      "\n"
     ]
    }
   ],
   "source": [
    "test.show(5)"
   ]
  },
  {
   "cell_type": "markdown",
   "id": "meaningful-quest",
   "metadata": {},
   "source": [
    "### download the model"
   ]
  },
  {
   "cell_type": "code",
   "execution_count": 7,
   "id": "inner-stand",
   "metadata": {},
   "outputs": [],
   "source": [
    "model = PipelineModel.load(MODEL_PATH)"
   ]
  },
  {
   "cell_type": "code",
   "execution_count": 8,
   "id": "sorted-round",
   "metadata": {},
   "outputs": [],
   "source": [
    "prediction = model.transform(test)"
   ]
  },
  {
   "cell_type": "code",
   "execution_count": 9,
   "id": "ruled-princess",
   "metadata": {},
   "outputs": [
    {
     "name": "stdout",
     "output_type": "stream",
     "text": [
      "+-----+---------------------+---------+------+------+----------------+---------+-----------------+--------------------+------------------+\n",
      "|ad_id|target_audience_count|has_video|is_cpm|is_cpc|         ad_cost|day_count|              ctr|            features|        prediction|\n",
      "+-----+---------------------+---------+------+------+----------------+---------+-----------------+--------------------+------------------+\n",
      "|    2|     11012.2068140534|        1|     1|     0|196.691891825393|       17| 0.50005065193925|[1.0,1.0,0.0,196....|1.3012103231330485|\n",
      "|    3|     9923.69112524699|        1|     1|     0|202.617038691842|       15|0.637132195277704|[1.0,1.0,0.0,202....| 2.102279397581597|\n",
      "|    4|     10202.3140990505|        1|     1|     0|203.496891469936|       15|0.783706394973096|[1.0,1.0,0.0,203....|1.8965282187698946|\n",
      "|   10|     10239.9431887051|        1|     1|     0|195.804239443196|       15| 1.01044552869544|[1.0,1.0,0.0,195....|1.8716882642094221|\n",
      "|   13|     8373.52511906263|        1|     1|     0|202.221614839989|       13| 1.05570252090352|[1.0,1.0,0.0,202....|3.2460924047550845|\n",
      "+-----+---------------------+---------+------+------+----------------+---------+-----------------+--------------------+------------------+\n",
      "only showing top 5 rows\n",
      "\n"
     ]
    }
   ],
   "source": [
    "prediction.show(5)"
   ]
  },
  {
   "cell_type": "code",
   "execution_count": 10,
   "id": "accepting-colombia",
   "metadata": {},
   "outputs": [],
   "source": [
    "df_to_save = prediction[['ad_id', 'prediction']]"
   ]
  },
  {
   "cell_type": "code",
   "execution_count": 11,
   "id": "material-extreme",
   "metadata": {},
   "outputs": [],
   "source": [
    "df_to_save.coalesce(1).write.parquet(output_file)"
   ]
  }
 ],
 "metadata": {
  "kernelspec": {
   "display_name": "Python 3",
   "language": "python",
   "name": "python3"
  },
  "language_info": {
   "codemirror_mode": {
    "name": "ipython",
    "version": 3
   },
   "file_extension": ".py",
   "mimetype": "text/x-python",
   "name": "python",
   "nbconvert_exporter": "python",
   "pygments_lexer": "ipython3",
   "version": "3.8.8"
  }
 },
 "nbformat": 4,
 "nbformat_minor": 5
}
