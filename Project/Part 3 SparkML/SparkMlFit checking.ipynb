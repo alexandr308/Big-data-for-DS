{
 "cells": [
  {
   "cell_type": "code",
   "execution_count": 1,
   "id": "productive-sherman",
   "metadata": {},
   "outputs": [],
   "source": [
    "import io\n",
    "import sys\n",
    "\n",
    "from pyspark.ml import Pipeline\n",
    "from pyspark.ml.evaluation import RegressionEvaluator\n",
    "from pyspark.ml.feature import VectorAssembler\n",
    "from pyspark.ml.regression import LinearRegression, RandomForestRegressor\n",
    "from pyspark.ml.tuning import ParamGridBuilder, TrainValidationSplit\n",
    "\n",
    "from pyspark.sql import SparkSession\n",
    "\n",
    "import numpy as np"
   ]
  },
  {
   "cell_type": "code",
   "execution_count": 2,
   "id": "acceptable-jewelry",
   "metadata": {},
   "outputs": [],
   "source": [
    "# Используем как путь куда сохранить модель\n",
    "MODEL_PATH = 'spark_ml_model'"
   ]
  },
  {
   "cell_type": "code",
   "execution_count": 3,
   "id": "fitting-catering",
   "metadata": {},
   "outputs": [],
   "source": [
    "spark = SparkSession.builder.appName('PySparkMLFitJob').getOrCreate()"
   ]
  },
  {
   "cell_type": "code",
   "execution_count": 4,
   "id": "apparent-contents",
   "metadata": {},
   "outputs": [
    {
     "data": {
      "text/html": [
       "\n",
       "            <div>\n",
       "                <p><b>SparkSession - in-memory</b></p>\n",
       "                \n",
       "        <div>\n",
       "            <p><b>SparkContext</b></p>\n",
       "\n",
       "            <p><a href=\"http://dc59c7dab133:4040\">Spark UI</a></p>\n",
       "\n",
       "            <dl>\n",
       "              <dt>Version</dt>\n",
       "                <dd><code>v3.1.1</code></dd>\n",
       "              <dt>Master</dt>\n",
       "                <dd><code>local[*]</code></dd>\n",
       "              <dt>AppName</dt>\n",
       "                <dd><code>PySparkMLFitJob</code></dd>\n",
       "            </dl>\n",
       "        </div>\n",
       "        \n",
       "            </div>\n",
       "        "
      ],
      "text/plain": [
       "<pyspark.sql.session.SparkSession at 0x7f6d103cccd0>"
      ]
     },
     "execution_count": 4,
     "metadata": {},
     "output_type": "execute_result"
    }
   ],
   "source": [
    "spark"
   ]
  },
  {
   "cell_type": "markdown",
   "id": "interested-chemical",
   "metadata": {},
   "source": [
    "# 1. Get data"
   ]
  },
  {
   "cell_type": "code",
   "execution_count": 5,
   "id": "proprietary-outreach",
   "metadata": {},
   "outputs": [],
   "source": [
    "# download train and test data\n",
    "train = spark.read.parquet('train.parquet')\n",
    "test = spark.read.parquet('test.parquet')"
   ]
  },
  {
   "cell_type": "code",
   "execution_count": 6,
   "id": "fatal-affiliation",
   "metadata": {},
   "outputs": [
    {
     "name": "stdout",
     "output_type": "stream",
     "text": [
      "+-----+---------------------+---------+------+------+----------------+---------+-----------------+\n",
      "|ad_id|target_audience_count|has_video|is_cpm|is_cpc|         ad_cost|day_count|              ctr|\n",
      "+-----+---------------------+---------+------+------+----------------+---------+-----------------+\n",
      "|    1|     10707.2440058622|        1|     1|     0|201.829292651124|       15|0.431740082807281|\n",
      "|    5|     10643.3872649482|        1|     1|     0|192.577221699704|       15|0.809264519216201|\n",
      "|    6|     11418.7085911347|        1|     1|     0|204.104562956739|       11|0.909738306804039|\n",
      "|    7|     10109.3278687796|        1|     1|     0|194.255798599684|       12|0.941221039774456|\n",
      "|    8|     10665.1119991977|        1|     1|     0|202.658042557742|       14|0.986790019690954|\n",
      "+-----+---------------------+---------+------+------+----------------+---------+-----------------+\n",
      "only showing top 5 rows\n",
      "\n"
     ]
    }
   ],
   "source": [
    "train.show(5)"
   ]
  },
  {
   "cell_type": "code",
   "execution_count": 7,
   "id": "established-steal",
   "metadata": {},
   "outputs": [
    {
     "name": "stdout",
     "output_type": "stream",
     "text": [
      "+-----+---------------------+---------+------+------+----------------+---------+-----------------+\n",
      "|ad_id|target_audience_count|has_video|is_cpm|is_cpc|         ad_cost|day_count|              ctr|\n",
      "+-----+---------------------+---------+------+------+----------------+---------+-----------------+\n",
      "|    2|     11012.2068140534|        1|     1|     0|196.691891825393|       17| 0.50005065193925|\n",
      "|    3|     9923.69112524699|        1|     1|     0|202.617038691842|       15|0.637132195277704|\n",
      "|    4|     10202.3140990505|        1|     1|     0|203.496891469936|       15|0.783706394973096|\n",
      "|   10|     10239.9431887051|        1|     1|     0|195.804239443196|       15| 1.01044552869544|\n",
      "|   13|     8373.52511906263|        1|     1|     0|202.221614839989|       13| 1.05570252090352|\n",
      "+-----+---------------------+---------+------+------+----------------+---------+-----------------+\n",
      "only showing top 5 rows\n",
      "\n"
     ]
    }
   ],
   "source": [
    "test.show(5)"
   ]
  },
  {
   "cell_type": "markdown",
   "id": "grave-albuquerque",
   "metadata": {},
   "source": [
    "# 2. Pipeline building"
   ]
  },
  {
   "cell_type": "code",
   "execution_count": 8,
   "id": "olive-encoding",
   "metadata": {},
   "outputs": [],
   "source": [
    "features = VectorAssembler(\n",
    "        inputCols=['has_video', 'is_cpm', 'is_cpc', 'ad_cost', 'day_count', 'target_audience_count'],\n",
    "        outputCol='features'\n",
    ")"
   ]
  },
  {
   "cell_type": "markdown",
   "id": "governing-reporter",
   "metadata": {},
   "source": [
    "# LR part"
   ]
  },
  {
   "cell_type": "code",
   "execution_count": 9,
   "id": "imported-going",
   "metadata": {},
   "outputs": [],
   "source": [
    "lr = LinearRegression(solver='normal', \n",
    "                      loss='squaredError',\n",
    "                      labelCol='ctr',\n",
    "                      featuresCol='features')"
   ]
  },
  {
   "cell_type": "code",
   "execution_count": 10,
   "id": "logical-canvas",
   "metadata": {},
   "outputs": [],
   "source": [
    "lr_paramGrid = ParamGridBuilder()\\\n",
    "    .addGrid(lr.standardization, [True, False]) \\\n",
    "    .addGrid(lr.elasticNetParam, [0.2, 0.5, 0.8, 1.0])\\\n",
    "    .build()"
   ]
  },
  {
   "cell_type": "code",
   "execution_count": 11,
   "id": "satisfied-rhythm",
   "metadata": {},
   "outputs": [],
   "source": [
    "lr_tvs = TrainValidationSplit(estimator=lr,\n",
    "                           estimatorParamMaps=lr_paramGrid,\n",
    "                           evaluator=RegressionEvaluator(labelCol='ctr', predictionCol='prediction', metricName='rmse'),\n",
    "                           trainRatio=0.8)"
   ]
  },
  {
   "cell_type": "markdown",
   "id": "comprehensive-alexandria",
   "metadata": {},
   "source": [
    "### build pipeline"
   ]
  },
  {
   "cell_type": "code",
   "execution_count": 12,
   "id": "occasional-joshua",
   "metadata": {},
   "outputs": [],
   "source": [
    "lr_pipeline = Pipeline(stages=[features, lr_tvs])"
   ]
  },
  {
   "cell_type": "code",
   "execution_count": 13,
   "id": "bored-combine",
   "metadata": {},
   "outputs": [],
   "source": [
    "lr_model = lr_pipeline.fit(train)"
   ]
  },
  {
   "cell_type": "code",
   "execution_count": 14,
   "id": "pharmaceutical-invitation",
   "metadata": {},
   "outputs": [],
   "source": [
    "lr_prediction = lr_model.transform(test)"
   ]
  },
  {
   "cell_type": "code",
   "execution_count": 15,
   "id": "corresponding-outdoors",
   "metadata": {},
   "outputs": [
    {
     "name": "stdout",
     "output_type": "stream",
     "text": [
      "+------------------+-----------------+--------------------+\n",
      "|        prediction|              ctr|            features|\n",
      "+------------------+-----------------+--------------------+\n",
      "|1.3012103231330485| 0.50005065193925|[1.0,1.0,0.0,196....|\n",
      "| 2.102279397581597|0.637132195277704|[1.0,1.0,0.0,202....|\n",
      "|1.8965282187698946|0.783706394973096|[1.0,1.0,0.0,203....|\n",
      "|1.8716882642094221| 1.01044552869544|[1.0,1.0,0.0,195....|\n",
      "|3.2460924047550845| 1.05570252090352|[1.0,1.0,0.0,202....|\n",
      "| 2.209269655580119|  1.0842802285893|[1.0,1.0,0.0,198....|\n",
      "|1.9751670095789402| 1.15800342076409|[1.0,1.0,0.0,196....|\n",
      "|2.2974898870563933| 1.19586163368964|[1.0,1.0,0.0,199....|\n",
      "|2.2098412135490664| 1.20804684294711|[1.0,1.0,0.0,200....|\n",
      "|2.3757978487189426| 1.23803310280742|[1.0,1.0,0.0,204....|\n",
      "+------------------+-----------------+--------------------+\n",
      "only showing top 10 rows\n",
      "\n"
     ]
    }
   ],
   "source": [
    "lr_prediction.select(\"prediction\", \"ctr\", \"features\").show(10)"
   ]
  },
  {
   "cell_type": "code",
   "execution_count": 16,
   "id": "figured-charity",
   "metadata": {},
   "outputs": [],
   "source": [
    "lr_evaluator = RegressionEvaluator(labelCol='ctr', predictionCol='prediction', metricName='rmse')"
   ]
  },
  {
   "cell_type": "code",
   "execution_count": 17,
   "id": "threaded-memorial",
   "metadata": {},
   "outputs": [],
   "source": [
    "lr_tvs_rmse = lr_evaluator.evaluate(lr_prediction)"
   ]
  },
  {
   "cell_type": "code",
   "execution_count": 18,
   "id": "realistic-location",
   "metadata": {},
   "outputs": [
    {
     "data": {
      "text/plain": [
       "0.4277179180033145"
      ]
     },
     "execution_count": 18,
     "metadata": {},
     "output_type": "execute_result"
    }
   ],
   "source": [
    "lr_tvs_rmse"
   ]
  },
  {
   "cell_type": "code",
   "execution_count": 19,
   "id": "floating-configuration",
   "metadata": {},
   "outputs": [
    {
     "data": {
      "text/plain": [
       "0.428"
      ]
     },
     "execution_count": 19,
     "metadata": {},
     "output_type": "execute_result"
    }
   ],
   "source": [
    "np.round(lr_tvs_rmse, 3)"
   ]
  },
  {
   "cell_type": "code",
   "execution_count": 20,
   "id": "distinguished-premiere",
   "metadata": {
    "scrolled": false
   },
   "outputs": [
    {
     "name": "stdout",
     "output_type": "stream",
     "text": [
      "standardization: True\n",
      "elasticNetParam: 0.2\n"
     ]
    }
   ],
   "source": [
    "print('standardization: {}'.format(lr_model.stages[-1].bestModel._java_obj.getStandardization()))\n",
    "print('elasticNetParam: {}'.format(lr_model.stages[-1].bestModel._java_obj.getElasticNetParam()))"
   ]
  },
  {
   "cell_type": "code",
   "execution_count": 21,
   "id": "authentic-helicopter",
   "metadata": {},
   "outputs": [
    {
     "data": {
      "text/plain": [
       "LinearRegressionModel: uid=LinearRegression_4a596de0480d, numFeatures=6"
      ]
     },
     "execution_count": 21,
     "metadata": {},
     "output_type": "execute_result"
    }
   ],
   "source": [
    "lr_model.stages[-1].bestModel"
   ]
  },
  {
   "cell_type": "markdown",
   "id": "ethical-marsh",
   "metadata": {},
   "source": [
    "# RF part"
   ]
  },
  {
   "cell_type": "code",
   "execution_count": 22,
   "id": "affected-marine",
   "metadata": {},
   "outputs": [],
   "source": [
    "rf = RandomForestRegressor(numTrees=10, \n",
    "                          maxDepth=10,\n",
    "                          bootstrap=True,\n",
    "                          seed=42,\n",
    "                          labelCol='ctr',\n",
    "                          featuresCol='features')"
   ]
  },
  {
   "cell_type": "code",
   "execution_count": 23,
   "id": "accessible-shade",
   "metadata": {},
   "outputs": [],
   "source": [
    "rf_paramGrid = ParamGridBuilder()\\\n",
    "    .addGrid(rf.maxDepth, [4, 7, 10]) \\\n",
    "    .addGrid(rf.numTrees, [10, 20])\\\n",
    "    .build()"
   ]
  },
  {
   "cell_type": "code",
   "execution_count": 24,
   "id": "trained-collapse",
   "metadata": {},
   "outputs": [],
   "source": [
    "rf_tvs = TrainValidationSplit(estimator=rf,\n",
    "                           estimatorParamMaps=rf_paramGrid,\n",
    "                           evaluator=RegressionEvaluator(labelCol='ctr', predictionCol='prediction', metricName='rmse'),\n",
    "                           trainRatio=0.8)"
   ]
  },
  {
   "cell_type": "markdown",
   "id": "comprehensive-alexandria",
   "metadata": {},
   "source": [
    "### build pipeline"
   ]
  },
  {
   "cell_type": "code",
   "execution_count": 25,
   "id": "occasional-joshua",
   "metadata": {},
   "outputs": [],
   "source": [
    "rf_pipeline = Pipeline(stages=[features, rf_tvs])"
   ]
  },
  {
   "cell_type": "code",
   "execution_count": 26,
   "id": "bored-combine",
   "metadata": {},
   "outputs": [],
   "source": [
    "rf_model = rf_pipeline.fit(train)"
   ]
  },
  {
   "cell_type": "code",
   "execution_count": 27,
   "id": "pharmaceutical-invitation",
   "metadata": {},
   "outputs": [],
   "source": [
    "rf_prediction = rf_model.transform(test)"
   ]
  },
  {
   "cell_type": "code",
   "execution_count": 28,
   "id": "corresponding-outdoors",
   "metadata": {},
   "outputs": [
    {
     "name": "stdout",
     "output_type": "stream",
     "text": [
      "+------------------+-----------------+--------------------+\n",
      "|        prediction|              ctr|            features|\n",
      "+------------------+-----------------+--------------------+\n",
      "|3.4912131168792184| 0.50005065193925|[1.0,1.0,0.0,196....|\n",
      "|3.6134328199433994|0.637132195277704|[1.0,1.0,0.0,202....|\n",
      "|3.6137126239618618|0.783706394973096|[1.0,1.0,0.0,203....|\n",
      "|3.4838028482770214| 1.01044552869544|[1.0,1.0,0.0,195....|\n",
      "|3.6134328199433994| 1.05570252090352|[1.0,1.0,0.0,202....|\n",
      "| 3.657848283721369|  1.0842802285893|[1.0,1.0,0.0,198....|\n",
      "|3.4838028482770214| 1.15800342076409|[1.0,1.0,0.0,196....|\n",
      "|  3.65002900725183| 1.19586163368964|[1.0,1.0,0.0,199....|\n",
      "|3.6134328199433994| 1.20804684294711|[1.0,1.0,0.0,200....|\n",
      "| 3.629956268753129| 1.23803310280742|[1.0,1.0,0.0,204....|\n",
      "+------------------+-----------------+--------------------+\n",
      "only showing top 10 rows\n",
      "\n"
     ]
    }
   ],
   "source": [
    "rf_prediction.select(\"prediction\", \"ctr\", \"features\").show(10)"
   ]
  },
  {
   "cell_type": "code",
   "execution_count": 29,
   "id": "figured-charity",
   "metadata": {},
   "outputs": [],
   "source": [
    "rf_evaluator = RegressionEvaluator(labelCol='ctr', predictionCol='prediction', metricName='rmse')"
   ]
  },
  {
   "cell_type": "code",
   "execution_count": 30,
   "id": "threaded-memorial",
   "metadata": {},
   "outputs": [],
   "source": [
    "rf_tvs_rmse = rf_evaluator.evaluate(rf_prediction)"
   ]
  },
  {
   "cell_type": "code",
   "execution_count": 31,
   "id": "realistic-location",
   "metadata": {},
   "outputs": [
    {
     "data": {
      "text/plain": [
       "0.32922209388736795"
      ]
     },
     "execution_count": 31,
     "metadata": {},
     "output_type": "execute_result"
    }
   ],
   "source": [
    "rf_tvs_rmse"
   ]
  },
  {
   "cell_type": "code",
   "execution_count": 32,
   "id": "floating-configuration",
   "metadata": {},
   "outputs": [
    {
     "data": {
      "text/plain": [
       "0.329"
      ]
     },
     "execution_count": 32,
     "metadata": {},
     "output_type": "execute_result"
    }
   ],
   "source": [
    "np.round(rf_tvs_rmse, 3)"
   ]
  },
  {
   "cell_type": "code",
   "execution_count": 33,
   "id": "distinguished-premiere",
   "metadata": {
    "scrolled": false
   },
   "outputs": [
    {
     "name": "stdout",
     "output_type": "stream",
     "text": [
      "MaxDepth: 10\n",
      "NumTrees: 10\n"
     ]
    }
   ],
   "source": [
    "print('MaxDepth: {}'.format(rf_model.stages[-1].bestModel._java_obj.getMaxDepth()))\n",
    "print('NumTrees: {}'.format(rf_model.stages[-1].bestModel._java_obj.getNumTrees()))"
   ]
  },
  {
   "cell_type": "code",
   "execution_count": 34,
   "id": "authentic-helicopter",
   "metadata": {},
   "outputs": [
    {
     "data": {
      "text/plain": [
       "RandomForestRegressionModel: uid=RandomForestRegressor_62a876314e91, numTrees=10, numFeatures=6"
      ]
     },
     "execution_count": 34,
     "metadata": {},
     "output_type": "execute_result"
    }
   ],
   "source": [
    "rf_model.stages[-1].bestModel"
   ]
  },
  {
   "cell_type": "markdown",
   "id": "friendly-anxiety",
   "metadata": {},
   "source": [
    "## compare"
   ]
  },
  {
   "cell_type": "code",
   "execution_count": 35,
   "id": "simple-madonna",
   "metadata": {},
   "outputs": [],
   "source": [
    "if lr_tvs_rmse > rf_tvs_rmse:\n",
    "    rf_model.write().overwrite().save(MODEL_PATH)\n",
    "else:\n",
    "    lr_model.write().overwrite().save(MODEL_PATH)"
   ]
  }
 ],
 "metadata": {
  "kernelspec": {
   "display_name": "Python 3",
   "language": "python",
   "name": "python3"
  },
  "language_info": {
   "codemirror_mode": {
    "name": "ipython",
    "version": 3
   },
   "file_extension": ".py",
   "mimetype": "text/x-python",
   "name": "python",
   "nbconvert_exporter": "python",
   "pygments_lexer": "ipython3",
   "version": "3.8.8"
  }
 },
 "nbformat": 4,
 "nbformat_minor": 5
}
